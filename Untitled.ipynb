{
 "cells": [
  {
   "cell_type": "code",
   "execution_count": null,
   "id": "167a24a8",
   "metadata": {},
   "outputs": [],
   "source": [
    "import openai\n",
    "import \n",
    "async def chat_func():\n",
    "result = await openai.ChatCompletion.acreate(\n",
    "model=\"gpt-3.5-turbo\",\n",
    "messages=[\n",
    "{\"role\": \"system\", \"content\": \"You are a helpful assistant.\"},\n",
    "{\"role\": \"user\", \"content\": \"Create a blog article.\"},\n",
    "],\n",
    "stream=True,\n",
    ")\n",
    "async for chunk in result:\n",
    "content = chunk.choices[0].delta.get(\"content\", \"\")\n",
    "print(content, flush=True, end=\"\")\n",
    "asyncio.run(chat_func())"
   ]
  }
 ],
 "metadata": {
  "kernelspec": {
   "display_name": "Python 3",
   "language": "python",
   "name": "python3"
  },
  "language_info": {
   "codemirror_mode": {
    "name": "ipython",
    "version": 3
   },
   "file_extension": ".py",
   "mimetype": "text/x-python",
   "name": "python",
   "nbconvert_exporter": "python",
   "pygments_lexer": "ipython3",
   "version": "3.9.5"
  }
 },
 "nbformat": 4,
 "nbformat_minor": 5
}
