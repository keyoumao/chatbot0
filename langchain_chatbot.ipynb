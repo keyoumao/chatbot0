{
 "cells": [
  {
   "cell_type": "code",
   "execution_count": 10,
   "id": "4a83b6e8",
   "metadata": {},
   "outputs": [
    {
     "name": "stdout",
     "output_type": "stream",
     "text": [
      "None\n"
     ]
    }
   ],
   "source": [
    "# !pip install python-dotenv\n",
    "import os\n",
    "from my_dotenv import load_dotenv\n",
    "\n",
    "load_dotenv()\n",
    "\n",
    "# Now you can access environment variables using os.environ\n",
    "openai_api_key = os.environ.get(\"OPENAI_API_KEY\")\n",
    "print(openai_api_key)  # Print the API key to check\n"
   ]
  },
  {
   "cell_type": "code",
   "execution_count": 13,
   "id": "b49d092d",
   "metadata": {},
   "outputs": [
    {
     "name": "stdout",
     "output_type": "stream",
     "text": [
      "Requirement already satisfied: langchain in /Users/keyoumao/hyperspy-bundle/envs/chatbot_env/lib/python3.11/site-packages (0.0.319)\n",
      "Requirement already satisfied: openai in /Users/keyoumao/hyperspy-bundle/envs/chatbot_env/lib/python3.11/site-packages (0.28.1)\n",
      "Requirement already satisfied: PyYAML>=5.3 in /Users/keyoumao/hyperspy-bundle/envs/chatbot_env/lib/python3.11/site-packages (from langchain) (6.0.1)\n",
      "Requirement already satisfied: SQLAlchemy<3,>=1.4 in /Users/keyoumao/hyperspy-bundle/envs/chatbot_env/lib/python3.11/site-packages (from langchain) (2.0.22)\n",
      "Requirement already satisfied: aiohttp<4.0.0,>=3.8.3 in /Users/keyoumao/hyperspy-bundle/envs/chatbot_env/lib/python3.11/site-packages (from langchain) (3.8.6)\n",
      "Requirement already satisfied: anyio<4.0 in /Users/keyoumao/hyperspy-bundle/envs/chatbot_env/lib/python3.11/site-packages (from langchain) (3.7.1)\n",
      "Requirement already satisfied: dataclasses-json<0.7,>=0.5.7 in /Users/keyoumao/hyperspy-bundle/envs/chatbot_env/lib/python3.11/site-packages (from langchain) (0.6.1)\n",
      "Requirement already satisfied: jsonpatch<2.0,>=1.33 in /Users/keyoumao/hyperspy-bundle/envs/chatbot_env/lib/python3.11/site-packages (from langchain) (1.33)\n",
      "Requirement already satisfied: langsmith<0.1.0,>=0.0.43 in /Users/keyoumao/hyperspy-bundle/envs/chatbot_env/lib/python3.11/site-packages (from langchain) (0.0.49)\n",
      "Requirement already satisfied: numpy<2,>=1 in /Users/keyoumao/hyperspy-bundle/envs/chatbot_env/lib/python3.11/site-packages (from langchain) (1.26.1)\n",
      "Requirement already satisfied: pydantic<3,>=1 in /Users/keyoumao/hyperspy-bundle/envs/chatbot_env/lib/python3.11/site-packages (from langchain) (2.4.2)\n",
      "Requirement already satisfied: requests<3,>=2 in /Users/keyoumao/hyperspy-bundle/envs/chatbot_env/lib/python3.11/site-packages (from langchain) (2.31.0)\n",
      "Requirement already satisfied: tenacity<9.0.0,>=8.1.0 in /Users/keyoumao/hyperspy-bundle/envs/chatbot_env/lib/python3.11/site-packages (from langchain) (8.2.3)\n",
      "Requirement already satisfied: tqdm in /Users/keyoumao/hyperspy-bundle/envs/chatbot_env/lib/python3.11/site-packages (from openai) (4.66.1)\n",
      "Requirement already satisfied: attrs>=17.3.0 in /Users/keyoumao/hyperspy-bundle/envs/chatbot_env/lib/python3.11/site-packages (from aiohttp<4.0.0,>=3.8.3->langchain) (23.1.0)\n",
      "Requirement already satisfied: charset-normalizer<4.0,>=2.0 in /Users/keyoumao/hyperspy-bundle/envs/chatbot_env/lib/python3.11/site-packages (from aiohttp<4.0.0,>=3.8.3->langchain) (3.3.0)\n",
      "Requirement already satisfied: multidict<7.0,>=4.5 in /Users/keyoumao/hyperspy-bundle/envs/chatbot_env/lib/python3.11/site-packages (from aiohttp<4.0.0,>=3.8.3->langchain) (6.0.4)\n",
      "Requirement already satisfied: async-timeout<5.0,>=4.0.0a3 in /Users/keyoumao/hyperspy-bundle/envs/chatbot_env/lib/python3.11/site-packages (from aiohttp<4.0.0,>=3.8.3->langchain) (4.0.3)\n",
      "Requirement already satisfied: yarl<2.0,>=1.0 in /Users/keyoumao/hyperspy-bundle/envs/chatbot_env/lib/python3.11/site-packages (from aiohttp<4.0.0,>=3.8.3->langchain) (1.9.2)\n",
      "Requirement already satisfied: frozenlist>=1.1.1 in /Users/keyoumao/hyperspy-bundle/envs/chatbot_env/lib/python3.11/site-packages (from aiohttp<4.0.0,>=3.8.3->langchain) (1.4.0)\n",
      "Requirement already satisfied: aiosignal>=1.1.2 in /Users/keyoumao/hyperspy-bundle/envs/chatbot_env/lib/python3.11/site-packages (from aiohttp<4.0.0,>=3.8.3->langchain) (1.3.1)\n",
      "Requirement already satisfied: idna>=2.8 in /Users/keyoumao/hyperspy-bundle/envs/chatbot_env/lib/python3.11/site-packages (from anyio<4.0->langchain) (3.4)\n",
      "Requirement already satisfied: sniffio>=1.1 in /Users/keyoumao/hyperspy-bundle/envs/chatbot_env/lib/python3.11/site-packages (from anyio<4.0->langchain) (1.3.0)\n",
      "Requirement already satisfied: marshmallow<4.0.0,>=3.18.0 in /Users/keyoumao/hyperspy-bundle/envs/chatbot_env/lib/python3.11/site-packages (from dataclasses-json<0.7,>=0.5.7->langchain) (3.20.1)\n",
      "Requirement already satisfied: typing-inspect<1,>=0.4.0 in /Users/keyoumao/hyperspy-bundle/envs/chatbot_env/lib/python3.11/site-packages (from dataclasses-json<0.7,>=0.5.7->langchain) (0.9.0)\n",
      "Requirement already satisfied: jsonpointer>=1.9 in /Users/keyoumao/hyperspy-bundle/envs/chatbot_env/lib/python3.11/site-packages (from jsonpatch<2.0,>=1.33->langchain) (2.4)\n",
      "Requirement already satisfied: annotated-types>=0.4.0 in /Users/keyoumao/hyperspy-bundle/envs/chatbot_env/lib/python3.11/site-packages (from pydantic<3,>=1->langchain) (0.6.0)\n",
      "Requirement already satisfied: pydantic-core==2.10.1 in /Users/keyoumao/hyperspy-bundle/envs/chatbot_env/lib/python3.11/site-packages (from pydantic<3,>=1->langchain) (2.10.1)\n",
      "Requirement already satisfied: typing-extensions>=4.6.1 in /Users/keyoumao/hyperspy-bundle/envs/chatbot_env/lib/python3.11/site-packages (from pydantic<3,>=1->langchain) (4.8.0)\n",
      "Requirement already satisfied: urllib3<3,>=1.21.1 in /Users/keyoumao/hyperspy-bundle/envs/chatbot_env/lib/python3.11/site-packages (from requests<3,>=2->langchain) (2.0.6)\n",
      "Requirement already satisfied: certifi>=2017.4.17 in /Users/keyoumao/hyperspy-bundle/envs/chatbot_env/lib/python3.11/site-packages (from requests<3,>=2->langchain) (2023.7.22)\n",
      "Requirement already satisfied: greenlet!=0.4.17 in /Users/keyoumao/hyperspy-bundle/envs/chatbot_env/lib/python3.11/site-packages (from SQLAlchemy<3,>=1.4->langchain) (3.0.0)\n",
      "Requirement already satisfied: packaging>=17.0 in /Users/keyoumao/hyperspy-bundle/envs/chatbot_env/lib/python3.11/site-packages (from marshmallow<4.0.0,>=3.18.0->dataclasses-json<0.7,>=0.5.7->langchain) (23.2)\n",
      "Requirement already satisfied: mypy-extensions>=0.3.0 in /Users/keyoumao/hyperspy-bundle/envs/chatbot_env/lib/python3.11/site-packages (from typing-inspect<1,>=0.4.0->dataclasses-json<0.7,>=0.5.7->langchain) (1.0.0)\n"
     ]
    },
    {
     "ename": "ModuleNotFoundError",
     "evalue": "No module named 'langchain'",
     "output_type": "error",
     "traceback": [
      "\u001b[0;31m---------------------------------------------------------------------------\u001b[0m",
      "\u001b[0;31mModuleNotFoundError\u001b[0m                       Traceback (most recent call last)",
      "\u001b[0;32m<ipython-input-13-428cc1b6cba9>\u001b[0m in \u001b[0;36m<module>\u001b[0;34m\u001b[0m\n\u001b[1;32m     12\u001b[0m \u001b[0;34m\u001b[0m\u001b[0m\n\u001b[1;32m     13\u001b[0m \u001b[0;34m\u001b[0m\u001b[0m\n\u001b[0;32m---> 14\u001b[0;31m from langchain.schema import (\n\u001b[0m\u001b[1;32m     15\u001b[0m     \u001b[0mAIMessage\u001b[0m\u001b[0;34m,\u001b[0m\u001b[0;34m\u001b[0m\u001b[0;34m\u001b[0m\u001b[0m\n\u001b[1;32m     16\u001b[0m     \u001b[0mHumanMessage\u001b[0m\u001b[0;34m,\u001b[0m\u001b[0;34m\u001b[0m\u001b[0;34m\u001b[0m\u001b[0m\n",
      "\u001b[0;31mModuleNotFoundError\u001b[0m: No module named 'langchain'"
     ]
    }
   ],
   "source": [
    "!pip install langchain openai\n",
    "# # # !pip install python-dotenv\n",
    "# # # Set env var OPENAI_API_KEY or load from a .env file:\n",
    "# # import os\n",
    "# # import dotenv\n",
    "\n",
    "# # dotenv.load_dotenv()\n",
    "\n",
    "# # Now you can access the API key using os.environ\n",
    "# openai_api_key = os.environ.get(\"OPENAI_API_KEY\")\n",
    "# print(openai_api_key)  # Print the API key to check\n",
    "\n",
    "\n",
    "from langchain.schema import (\n",
    "    AIMessage,\n",
    "    HumanMessage,\n",
    "    SystemMessage\n",
    ")\n",
    "from langchain.chat_models import ChatOpenAI\n",
    "\n",
    "chat = ChatOpenAI()\n",
    "chat([HumanMessage(content=\"Translate this sentence from English to French: I love programming.\")])"
   ]
  },
  {
   "cell_type": "code",
   "execution_count": null,
   "id": "5c0ad611",
   "metadata": {},
   "outputs": [],
   "source": []
  }
 ],
 "metadata": {
  "kernelspec": {
   "display_name": "Python 3",
   "language": "python",
   "name": "python3"
  },
  "language_info": {
   "codemirror_mode": {
    "name": "ipython",
    "version": 3
   },
   "file_extension": ".py",
   "mimetype": "text/x-python",
   "name": "python",
   "nbconvert_exporter": "python",
   "pygments_lexer": "ipython3",
   "version": "3.9.5"
  }
 },
 "nbformat": 4,
 "nbformat_minor": 5
}
